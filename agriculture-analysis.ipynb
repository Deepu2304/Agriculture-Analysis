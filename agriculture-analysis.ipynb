{
 "cells": [
  {
   "cell_type": "code",
   "execution_count": null,
   "id": "7c0aaf84",
   "metadata": {},
   "outputs": [],
   "source": [
    "import numpy as np\n",
    "import pandas as pd \n",
    "import matplotlib.pyplot as plt\n",
    "import seaborn as sns\n",
    "sns.set_theme(style=\"whitegrid\")\n",
    "import plotly.express as px \n",
    "import plotly.graph_objects as go \n",
    "import plotly as py \n",
    "from plotly import tools\n",
    "import os\n",
    "import calendar"
   ]
  },
  {
   "cell_type": "code",
   "execution_count": null,
   "id": "ed5f8be0",
   "metadata": {},
   "outputs": [],
   "source": [
    "crop_path=\"/Users/jaideepsai/Desktop/DATA-ANALYTICS/Data Source/extracted-data/Agriculture/crop_production.csv\"\n",
    "crop_data=pd.read_csv(crop_path, delimiter=',')"
   ]
  },
  {
   "cell_type": "code",
   "execution_count": null,
   "id": "240338b2",
   "metadata": {},
   "outputs": [],
   "source": [
    "crop_data.head()"
   ]
  },
  {
   "cell_type": "code",
   "execution_count": null,
   "id": "e77d17cd",
   "metadata": {},
   "outputs": [],
   "source": [
    "crop_data.info()"
   ]
  },
  {
   "cell_type": "code",
   "execution_count": null,
   "id": "a8409c1f",
   "metadata": {},
   "outputs": [],
   "source": [
    "crop_data.isnull().sum()"
   ]
  },
  {
   "cell_type": "code",
   "execution_count": null,
   "id": "7dc4f0b6",
   "metadata": {},
   "outputs": [],
   "source": [
    "statistics=crop_data.describe()\n",
    "print(\"statistics\")\n",
    "print(statistics)"
   ]
  },
  {
   "cell_type": "code",
   "execution_count": null,
   "id": "5232eece",
   "metadata": {},
   "outputs": [],
   "source": [
    "mean_values = crop_data[['Production']].mean()\n",
    "crop_data.loc[:, 'Production'] = crop_data['Production'].fillna(mean_values['Production'])"
   ]
  },
  {
   "cell_type": "code",
   "execution_count": null,
   "id": "fa113fcf",
   "metadata": {},
   "outputs": [],
   "source": [
    "crop_data.isnull().sum()"
   ]
  },
  {
   "cell_type": "markdown",
   "id": "34bf4225",
   "metadata": {},
   "source": [
    "# EDA"
   ]
  },
  {
   "cell_type": "code",
   "execution_count": null,
   "id": "08725c6e",
   "metadata": {},
   "outputs": [],
   "source": [
    "sns.countplot(data=crop_data,x=\"Crop_Year\")\n",
    "plt.xticks(rotation=45)\n",
    "plt.show()"
   ]
  },
  {
   "cell_type": "code",
   "execution_count": null,
   "id": "5253e9c5",
   "metadata": {},
   "outputs": [],
   "source": [
    "sns.countplot(data=crop_data,x=\"Season\")\n",
    "plt.xticks(rotation=45)\n",
    "plt.show()"
   ]
  },
  {
   "cell_type": "code",
   "execution_count": null,
   "id": "d48b23f8",
   "metadata": {},
   "outputs": [],
   "source": [
    "temp = crop_data.groupby(by='State_Name')['Production'].sum().reset_index().sort_values(by='Production')\n",
    "px.bar(temp, 'State_Name', 'Production')"
   ]
  },
  {
   "cell_type": "code",
   "execution_count": null,
   "id": "93de761d",
   "metadata": {},
   "outputs": [],
   "source": [
    "temp = crop_data.groupby('State_Name')[['Area', 'Production']].sum().reset_index()\n",
    "temp['Production_Per_Unit_Area'] = temp['Production'] / temp['Area']\n",
    "temp = temp.sort_values(by='Production_Per_Unit_Area')\n",
    "px.bar(temp, 'State_Name', 'Production_Per_Unit_Area', color='Production_Per_Unit_Area')"
   ]
  },
  {
   "cell_type": "code",
   "execution_count": null,
   "id": "cb1d25cf",
   "metadata": {},
   "outputs": [],
   "source": [
    "temp = crop_data.groupby(by='Crop_Year')['Production'].sum().reset_index()\n",
    "px.line(temp, 'Crop_Year', 'Production')"
   ]
  },
  {
   "cell_type": "code",
   "execution_count": null,
   "id": "7d11f48a",
   "metadata": {},
   "outputs": [],
   "source": [
    "temp = crop_data.groupby(by='Crop_Year')['Area'].mean().reset_index()\n",
    "px.scatter(temp, 'Crop_Year', 'Area', color='Area', size='Area')"
   ]
  },
  {
   "cell_type": "code",
   "execution_count": null,
   "id": "95ec880f",
   "metadata": {
    "scrolled": false
   },
   "outputs": [],
   "source": [
    "# fig, ax = plt.subplots(len(crop_data.State_Name.unique()), 1, figsize=(25, 65), sharex='col')\n",
    "# for count, state in enumerate(crop_data.State_Name.unique(), 0):\n",
    "#     sns.lineplot(data=crop_data[crop_data.State_Name == state], x='Crop_Year', y='Production', errorbar=None, ax=ax[count])\n",
    "#     ax[count].set_title(state)\n",
    "# plt.subplots_adjust(hspace=2.2)\n",
    "# plt.show()"
   ]
  },
  {
   "cell_type": "code",
   "execution_count": null,
   "id": "c6627564",
   "metadata": {},
   "outputs": [],
   "source": [
    "temp = crop_data.groupby('State_Name')[['Area', 'Production']].sum().reset_index()\n",
    "temp['Production_Per_Unit_Area'] = temp['Production'] / temp['Area']\n",
    "temp = temp.sort_values(by='Production_Per_Unit_Area')\n",
    "\n",
    "px.bar(temp, 'State_Name', 'Production_Per_Unit_Area', color='Production_Per_Unit_Area')\n"
   ]
  },
  {
   "cell_type": "code",
   "execution_count": null,
   "id": "b3015fc1",
   "metadata": {},
   "outputs": [],
   "source": [
    "from plotly.subplots import make_subplots\n",
    "import plotly.graph_objects as go\n",
    "\n",
    "# Create subplots\n",
    "fig = make_subplots(rows=1, cols=2,\n",
    "                    subplot_titles=('Highest crop producing districts', 'Least overall crop producing districts'))\n",
    "\n",
    "temp = crop_data.groupby(by='District_Name')['Production'].sum().reset_index().sort_values(by='Production')\n",
    "temp1 = temp.tail()\n",
    "trace1 = go.Bar(x=temp1['District_Name'], y=temp1['Production'])\n",
    "\n",
    "temp1 = temp.head()\n",
    "trace2 = go.Bar(x=temp1['District_Name'], y=temp1['Production'])\n",
    "\n",
    "fig.append_trace(trace1, 1, 1)\n",
    "fig.append_trace(trace2, 1, 2)\n",
    "fig.show()\n"
   ]
  },
  {
   "cell_type": "code",
   "execution_count": null,
   "id": "f9c9a812",
   "metadata": {},
   "outputs": [],
   "source": [
    "temp = crop_data.groupby(by='Crop')['Production'].sum().reset_index().sort_values(by='Production')\n",
    "px.bar(temp.tail(), 'Crop', 'Production')"
   ]
  },
  {
   "cell_type": "code",
   "execution_count": null,
   "id": "7b73be2a",
   "metadata": {},
   "outputs": [],
   "source": [
    "temp[temp['Production']==0]"
   ]
  },
  {
   "cell_type": "code",
   "execution_count": null,
   "id": "89dbbb60",
   "metadata": {
    "scrolled": false
   },
   "outputs": [],
   "source": [
    "fig, ax = plt.subplots(figsize=(25,65), sharex='col')\n",
    "count = 1\n",
    "\n",
    "for state in crop_data.State_Name.unique():\n",
    "    ax = plt.subplot(len(crop_data.State_Name.unique()), 1, count)\n",
    "    sns.lineplot(x='Crop_Year', y='Production', data=crop_data[crop_data.State_Name == state], ax=ax, errorbar=None)\n",
    "    plt.subplots_adjust(hspace=2.2)\n",
    "    plt.title(state)\n",
    "    count += 1"
   ]
  },
  {
   "cell_type": "code",
   "execution_count": null,
   "id": "0eb7a067",
   "metadata": {},
   "outputs": [],
   "source": [
    "north_india = ['Jammu and Kashmir', 'Punjab', 'Himachal Pradesh', 'Haryana', 'Uttarakhand', 'Uttar Pradesh', 'Chandigarh']\n",
    "east_india = ['Bihar', 'Odisha', 'Jharkhand', 'West Bengal']\n",
    "south_india = ['Andhra Pradesh', 'Karnataka', 'Kerala' ,'Tamil Nadu', 'Telangana']\n",
    "west_india = ['Rajasthan' , 'Gujarat', 'Goa','Maharashtra','Goa']\n",
    "central_india = ['Madhya Pradesh', 'Chhattisgarh']\n",
    "north_east_india = ['Assam', 'Sikkim', 'Nagaland', 'Meghalaya', 'Manipur', 'Mizoram', 'Tripura', 'Arunachal Pradesh']\n",
    "ut_india = ['Andaman and Nicobar Islands', 'Dadra and Nagar Haveli', 'Puducherry']"
   ]
  },
  {
   "cell_type": "code",
   "execution_count": null,
   "id": "3cb1e58c",
   "metadata": {},
   "outputs": [],
   "source": [
    "def get_zonal_names(row):\n",
    "    if row['State_Name'].strip() in north_india:\n",
    "        val = 'North Zone'\n",
    "    elif row['State_Name'].strip()  in south_india:\n",
    "        val = 'South Zone'\n",
    "    elif row['State_Name'].strip()  in east_india:\n",
    "        val = 'East Zone'\n",
    "    elif row['State_Name'].strip()  in west_india:\n",
    "        val = 'West Zone'\n",
    "    elif row['State_Name'].strip()  in central_india:\n",
    "        val = 'Central Zone'\n",
    "    elif row['State_Name'].strip()  in north_east_india:\n",
    "        val = 'NE Zone'\n",
    "    elif row['State_Name'].strip()  in ut_india:\n",
    "        val = 'Union Terr'\n",
    "    else:\n",
    "        val = 'No Value'\n",
    "    return val\n",
    "\n",
    "crop_data['Zones'] = crop_data.apply(get_zonal_names, axis=1)\n",
    "crop_data['Zones'].unique()"
   ]
  },
  {
   "cell_type": "code",
   "execution_count": null,
   "id": "aa90a07d",
   "metadata": {},
   "outputs": [],
   "source": [
    "import matplotlib.pyplot as plt\n",
    "import seaborn as sns\n",
    "\n",
    "fig, ax = plt.subplots(figsize=(25,30), sharex='col')\n",
    "count = 1\n",
    "\n",
    "for zone in crop_data.Zones.unique():\n",
    "    ax = plt.subplot(len(crop_data.Zones.unique()), 1, count)\n",
    "    sns.lineplot(data=crop_data[crop_data.Zones==zone], x='Crop_Year', y='Production', ax=ax, errorbar=None)\n",
    "    plt.subplots_adjust(hspace=0.6)\n",
    "    plt.title(zone)\n",
    "    count += 1\n"
   ]
  },
  {
   "cell_type": "code",
   "execution_count": null,
   "id": "4f35451f",
   "metadata": {},
   "outputs": [],
   "source": [
    "zone_df = crop_data.groupby(by='Zones')['Production'].sum().reset_index().sort_values(by='Production', ascending=False)\n",
    "zone_df.head()"
   ]
  },
  {
   "cell_type": "code",
   "execution_count": null,
   "id": "804b17ca",
   "metadata": {},
   "outputs": [],
   "source": [
    "fig, ax = plt.subplots(figsize=(15, 10))\n",
    "sns.barplot(x='Zones', y='Production', data=zone_df)\n",
    "plt.yscale('log')\n",
    "plt.title('Zone-Wise Production: Total')"
   ]
  },
  {
   "cell_type": "code",
   "execution_count": null,
   "id": "72937e60",
   "metadata": {},
   "outputs": [],
   "source": [
    "Kharif = ['Bajra','Jowar','Maize','Millet','Rice','Soybean','Fruits','Muskmelon','Sugarcane','Watermelon','Orange','Arhar/Tur,'\n",
    "'Urad','Cotton(lint)','Cowpea(Lobia)','Moong(Green Gram)','Guar seed','Moth','Tomato','Turmeric', 'Ragi']\n",
    "Rabi = ['Barley', 'Gram', 'Rapeseed &Mustard', 'Masoor', 'Coriander', 'Sunflower', 'Tobacco', 'Brinjal', 'Cabbage',\n",
    "       'Onion','Sweet potato','Potato','Peas & beans (Pulses)', 'Oilseeds total', 'other oilseeds', 'Banana', 'Groundnut', 'Niger seed',\n",
    "       'Sesamum','Safflower', 'Castor seed', 'Linseed', 'Soyabean']\n",
    "\n",
    "def change_crop_seasons(row):\n",
    "    if row['Crop'].strip() in Kharif:\n",
    "        val = 'Kharif'\n",
    "    elif row['Crop'].strip()  in Rabi:\n",
    "        val = 'Rabi'\n",
    "    else:\n",
    "        val = 'Others'\n",
    "    return val\n",
    "\n",
    "crop_data['Updated_Crop_Season'] = crop_data.apply(change_crop_seasons, axis=1)\n",
    "crop_data['Updated_Crop_Season'].unique()\n"
   ]
  },
  {
   "cell_type": "code",
   "execution_count": null,
   "id": "c909569f",
   "metadata": {},
   "outputs": [],
   "source": [
    "season = crop_data.groupby(by='Updated_Crop_Season')['Production'].sum().reset_index().sort_values(by='Production', ascending=False).head(10)\n",
    "season\n",
    "fig, ax = plt.subplots(figsize=(15, 10))\n",
    "sns.barplot(x='Updated_Crop_Season', y='Production', data=season, errwidth=0)\n",
    "plt.yscale('log')\n",
    "plt.title('Seasonal Crops vs Production')\n"
   ]
  },
  {
   "cell_type": "code",
   "execution_count": null,
   "id": "9c98d7c0",
   "metadata": {},
   "outputs": [],
   "source": [
    "kharif_df = crop_data[(crop_data['Updated_Crop_Season'] == 'Kharif')]\n",
    "df = kharif_df.groupby(by='Crop')['Production'].sum().reset_index().sort_values(by='Production', ascending=False).head(10)\n",
    "fig, ax = plt.subplots(figsize=(15, 10))\n",
    "sns.barplot(x='Crop', y='Production', data=df, errwidth=0)\n",
    "plt.yscale('log')\n",
    "plt.xticks(rotation=40)\n",
    "plt.title('Top 10 Crops in Kharif Season: Production')\n"
   ]
  },
  {
   "cell_type": "code",
   "execution_count": null,
   "id": "9393af11",
   "metadata": {},
   "outputs": [],
   "source": [
    "sugarcane_df = kharif_df[(kharif_df['Crop'] == 'Sugarcane')]\n",
    "sugarcane_df.head()\n",
    "fig, ax = plt.subplots(figsize=(15, 10))\n",
    "sns.barplot(x='Zones', y='Production', data=sugarcane_df, errwidth=0)\n",
    "plt.yscale('log')\n",
    "plt.xticks(rotation=45)\n",
    "plt.title('Sugarcane Production Across Zones')\n"
   ]
  },
  {
   "cell_type": "code",
   "execution_count": null,
   "id": "c4280a54",
   "metadata": {},
   "outputs": [],
   "source": [
    "df = sugarcane_df.groupby(by='State_Name')['Production'].sum().reset_index().sort_values(by='Production', ascending=False)\n",
    "fig, ax = plt.subplots(figsize=(15,10))\n",
    "sns.barplot(x='State_Name', y='Production',data=df.head(4),errwidth=0)\n",
    "plt.yscale('log')\n",
    "plt.title('Sugarcane State-Wise Production')"
   ]
  },
  {
   "cell_type": "code",
   "execution_count": null,
   "id": "133e2406",
   "metadata": {},
   "outputs": [],
   "source": [
    "uttarpr_df = sugarcane_df[(sugarcane_df['State_Name'] == 'Uttar Pradesh')]\n",
    "df = uttarpr_df.groupby(by=['District_Name', 'Crop'])['Area'].sum().reset_index().sort_values(by='Area', ascending=False)\n",
    "fig, ax = plt.subplots(figsize=(15,10))\n",
    "sns.barplot(x='District_Name', y='Area', data=df.head(5),errwidth=0)\n",
    "plt.title('Uttar Pradesh - Sugarcane Production')\n",
    "df.head(5)"
   ]
  },
  {
   "cell_type": "code",
   "execution_count": null,
   "id": "18338281",
   "metadata": {},
   "outputs": [],
   "source": [
    "rabi_df = crop_data[(crop_data['Updated_Crop_Season'] == 'Rabi')]\n",
    "df = rabi_df.groupby(by='Crop')['Production'].sum().reset_index().sort_values(by='Production', ascending=False).head(10)\n",
    "fig, ax = plt.subplots(figsize=(15,10))\n",
    "sns.barplot(x='Crop', y='Production',data=df, errwidth=0)\n",
    "plt.yscale('log')\n",
    "plt.xticks(rotation=45)\n",
    "plt.title('Rabi Crops Production')"
   ]
  },
  {
   "cell_type": "code",
   "execution_count": null,
   "id": "208ad88a",
   "metadata": {},
   "outputs": [],
   "source": [
    "potato_df = rabi_df[(rabi_df['Crop'] == 'Potato')]\n",
    "potato_df.head()\n",
    "\n",
    "fig, ax = plt.subplots(figsize=(15,10))\n",
    "sns.barplot(x='Zones', y='Production',data=potato_df, errwidth=0)\n",
    "plt.yscale('log')\n",
    "plt.xticks(rotation=45)\n",
    "plt.title('Potato Zone-Wise Production')"
   ]
  },
  {
   "cell_type": "code",
   "execution_count": null,
   "id": "a73b4366",
   "metadata": {},
   "outputs": [],
   "source": [
    "df = potato_df.groupby(by='State_Name')['Production'].sum().reset_index().sort_values(by='Production', ascending=False)\n",
    "fig, ax = plt.subplots(figsize=(15,10))\n",
    "sns.barplot(x='State_Name',y='Production',data=df.head(4),errwidth=0)\n",
    "plt.yscale('log')\n",
    "plt.title('Potato State-Wise Production')"
   ]
  },
  {
   "cell_type": "code",
   "execution_count": null,
   "id": "c9dce90c",
   "metadata": {},
   "outputs": [],
   "source": [
    "uttarpr_df = potato_df[(potato_df['State_Name'] == 'Uttar Pradesh')]\n",
    "df = uttarpr_df.groupby(by=['District_Name', 'Crop'])['Area'].sum().reset_index().sort_values(by='Area', ascending=False)\n",
    "fig, ax = plt.subplots(figsize=(15,10))\n",
    "sns.barplot(x='District_Name',y='Area',data=df.head(5), errwidth=0)\n",
    "plt.title('Uttar Pradesh - Potato Production')\n",
    "df.head(5)"
   ]
  },
  {
   "cell_type": "code",
   "execution_count": null,
   "id": "202e2dd5",
   "metadata": {},
   "outputs": [],
   "source": []
  }
 ],
 "metadata": {
  "kernelspec": {
   "display_name": "Python 3 (ipykernel)",
   "language": "python",
   "name": "python3"
  },
  "language_info": {
   "codemirror_mode": {
    "name": "ipython",
    "version": 3
   },
   "file_extension": ".py",
   "mimetype": "text/x-python",
   "name": "python",
   "nbconvert_exporter": "python",
   "pygments_lexer": "ipython3",
   "version": "3.11.5"
  }
 },
 "nbformat": 4,
 "nbformat_minor": 5
}
